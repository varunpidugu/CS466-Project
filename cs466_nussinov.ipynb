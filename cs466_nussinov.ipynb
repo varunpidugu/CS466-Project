{
  "nbformat": 4,
  "nbformat_minor": 0,
  "metadata": {
    "colab": {
      "name": "cs466 nussinov.ipynb",
      "provenance": [],
      "collapsed_sections": []
    },
    "kernelspec": {
      "name": "python3",
      "display_name": "Python 3"
    },
    "language_info": {
      "name": "python"
    }
  },
  "cells": [
    {
      "cell_type": "code",
      "metadata": {
        "id": "rgv5yVqIENmd",
        "colab": {
          "base_uri": "https://localhost:8080/"
        },
        "outputId": "0518240a-c07c-48e3-e06e-17f1fda56c5c"
      },
      "source": [
        "! pip install nose\n",
        "import numpy as np\n",
        "import nose.tools as nt\n",
        "from collections import defaultdict\n",
        "import pandas as pd\n",
        "from pandas import *\n",
        "from copy import deepcopy\n",
        "import matplotlib.pyplot as plt"
      ],
      "execution_count": 1,
      "outputs": [
        {
          "output_type": "stream",
          "name": "stdout",
          "text": [
            "Collecting nose\n",
            "  Downloading nose-1.3.7-py3-none-any.whl (154 kB)\n",
            "\u001b[?25l\r\u001b[K     |██▏                             | 10 kB 15.7 MB/s eta 0:00:01\r\u001b[K     |████▎                           | 20 kB 15.9 MB/s eta 0:00:01\r\u001b[K     |██████▍                         | 30 kB 18.3 MB/s eta 0:00:01\r\u001b[K     |████████▌                       | 40 kB 16.3 MB/s eta 0:00:01\r\u001b[K     |██████████▋                     | 51 kB 18.0 MB/s eta 0:00:01\r\u001b[K     |████████████▊                   | 61 kB 8.5 MB/s eta 0:00:01\r\u001b[K     |██████████████▉                 | 71 kB 8.7 MB/s eta 0:00:01\r\u001b[K     |█████████████████               | 81 kB 8.7 MB/s eta 0:00:01\r\u001b[K     |███████████████████             | 92 kB 8.8 MB/s eta 0:00:01\r\u001b[K     |█████████████████████▏          | 102 kB 9.2 MB/s eta 0:00:01\r\u001b[K     |███████████████████████▎        | 112 kB 9.2 MB/s eta 0:00:01\r\u001b[K     |█████████████████████████▍      | 122 kB 9.2 MB/s eta 0:00:01\r\u001b[K     |███████████████████████████▌    | 133 kB 9.2 MB/s eta 0:00:01\r\u001b[K     |█████████████████████████████▋  | 143 kB 9.2 MB/s eta 0:00:01\r\u001b[K     |███████████████████████████████▊| 153 kB 9.2 MB/s eta 0:00:01\r\u001b[K     |████████████████████████████████| 154 kB 9.2 MB/s \n",
            "\u001b[?25hInstalling collected packages: nose\n",
            "Successfully installed nose-1.3.7\n"
          ]
        }
      ]
    },
    {
      "cell_type": "code",
      "metadata": {
        "id": "hpuV2mEUFFVQ"
      },
      "source": [
        "matchPairings = defaultdict(lambda: defaultdict(dict))\n",
        "matchPairings[\"A\"][\"U\"] = 1\n",
        "matchPairings[\"U\"][\"A\"] = 1\n",
        "matchPairings[\"G\"][\"C\"] = 1\n",
        "matchPairings[\"C\"][\"G\"] = 1\n",
        "# Take in a sequence, output DP array\n",
        "def nussinovDP(sequence):\n",
        "  DP = np.zeros((len(sequence), len(sequence)))\n",
        "  for diag in range(1,len(sequence)):\n",
        "    for i in range(diag, len(sequence)):\n",
        "      j = i-diag\n",
        "      if matchPairings[sequence[i]][sequence[j]] == 1:\n",
        "        DP[j][i] = max(DP[j+1][i-1] + 1, DP[j][i-1], DP[j+1][i])\n",
        "      else:\n",
        "        DP[j][i] = max(DP[j][i-1], DP[j+1][i], DP[j+1][i-1])\n",
        "      for k in range(j+1, i):\n",
        "        DP[j][i] = max(DP[j][i], DP[j][k]+DP[k+1][i])\n",
        "  return DataFrame(DP)\n",
        "# Use DP array, backtrace and enumerate possible solutions"
      ],
      "execution_count": 2,
      "outputs": []
    },
    {
      "cell_type": "code",
      "metadata": {
        "colab": {
          "base_uri": "https://localhost:8080/"
        },
        "id": "yQU5YB_PFX6L",
        "outputId": "13de473e-2277-43a5-bf26-e6826bf514e5"
      },
      "source": [
        "# Test Cases\n",
        "test1 = nussinovDP(\"GGGAAAUCC\")\n",
        "nt.assert_equals(test1[8][0],3)\n",
        "print(test1)\n",
        "test2 = nussinovDP(\"AUGCGCGGGAUCGUCGAGAU\")\n",
        "print(test2)\n",
        "nt.assert_equals(test2[19][0],8)"
      ],
      "execution_count": 3,
      "outputs": [
        {
          "output_type": "stream",
          "name": "stderr",
          "text": [
            "/usr/local/lib/python3.7/dist-packages/ipykernel_launcher.py:3: DeprecationWarning: Please use assertEqual instead.\n",
            "  This is separate from the ipykernel package so we can avoid doing imports until\n"
          ]
        },
        {
          "output_type": "stream",
          "name": "stdout",
          "text": [
            "     0    1    2    3    4    5    6    7    8\n",
            "0  0.0  0.0  0.0  0.0  0.0  0.0  1.0  2.0  3.0\n",
            "1  0.0  0.0  0.0  0.0  0.0  0.0  1.0  2.0  3.0\n",
            "2  0.0  0.0  0.0  0.0  0.0  0.0  1.0  2.0  2.0\n",
            "3  0.0  0.0  0.0  0.0  0.0  0.0  1.0  1.0  1.0\n",
            "4  0.0  0.0  0.0  0.0  0.0  0.0  1.0  1.0  1.0\n",
            "5  0.0  0.0  0.0  0.0  0.0  0.0  1.0  1.0  1.0\n",
            "6  0.0  0.0  0.0  0.0  0.0  0.0  0.0  0.0  0.0\n",
            "7  0.0  0.0  0.0  0.0  0.0  0.0  0.0  0.0  0.0\n",
            "8  0.0  0.0  0.0  0.0  0.0  0.0  0.0  0.0  0.0\n",
            "     0    1    2    3    4    5    6   ...   13   14   15   16   17   18   19\n",
            "0   0.0  1.0  1.0  2.0  2.0  3.0  3.0  ...  5.0  6.0  6.0  7.0  7.0  7.0  8.0\n",
            "1   0.0  0.0  0.0  1.0  1.0  2.0  2.0  ...  4.0  5.0  5.0  6.0  6.0  7.0  7.0\n",
            "2   0.0  0.0  0.0  1.0  1.0  2.0  2.0  ...  4.0  5.0  5.0  6.0  6.0  6.0  7.0\n",
            "3   0.0  0.0  0.0  0.0  1.0  1.0  2.0  ...  4.0  5.0  5.0  6.0  6.0  6.0  7.0\n",
            "4   0.0  0.0  0.0  0.0  0.0  1.0  1.0  ...  3.0  4.0  4.0  5.0  5.0  5.0  6.0\n",
            "5   0.0  0.0  0.0  0.0  0.0  0.0  1.0  ...  3.0  4.0  4.0  5.0  5.0  5.0  6.0\n",
            "6   0.0  0.0  0.0  0.0  0.0  0.0  0.0  ...  2.0  3.0  3.0  4.0  4.0  4.0  5.0\n",
            "7   0.0  0.0  0.0  0.0  0.0  0.0  0.0  ...  2.0  3.0  3.0  4.0  4.0  4.0  5.0\n",
            "8   0.0  0.0  0.0  0.0  0.0  0.0  0.0  ...  2.0  3.0  3.0  4.0  4.0  4.0  5.0\n",
            "9   0.0  0.0  0.0  0.0  0.0  0.0  0.0  ...  2.0  2.0  3.0  4.0  4.0  4.0  5.0\n",
            "10  0.0  0.0  0.0  0.0  0.0  0.0  0.0  ...  1.0  1.0  2.0  3.0  3.0  4.0  4.0\n",
            "11  0.0  0.0  0.0  0.0  0.0  0.0  0.0  ...  1.0  1.0  2.0  3.0  3.0  3.0  4.0\n",
            "12  0.0  0.0  0.0  0.0  0.0  0.0  0.0  ...  0.0  1.0  1.0  2.0  2.0  2.0  3.0\n",
            "13  0.0  0.0  0.0  0.0  0.0  0.0  0.0  ...  0.0  0.0  1.0  2.0  2.0  2.0  3.0\n",
            "14  0.0  0.0  0.0  0.0  0.0  0.0  0.0  ...  0.0  0.0  1.0  1.0  1.0  1.0  2.0\n",
            "15  0.0  0.0  0.0  0.0  0.0  0.0  0.0  ...  0.0  0.0  0.0  0.0  0.0  0.0  1.0\n",
            "16  0.0  0.0  0.0  0.0  0.0  0.0  0.0  ...  0.0  0.0  0.0  0.0  0.0  0.0  1.0\n",
            "17  0.0  0.0  0.0  0.0  0.0  0.0  0.0  ...  0.0  0.0  0.0  0.0  0.0  0.0  1.0\n",
            "18  0.0  0.0  0.0  0.0  0.0  0.0  0.0  ...  0.0  0.0  0.0  0.0  0.0  0.0  1.0\n",
            "19  0.0  0.0  0.0  0.0  0.0  0.0  0.0  ...  0.0  0.0  0.0  0.0  0.0  0.0  0.0\n",
            "\n",
            "[20 rows x 20 columns]\n"
          ]
        },
        {
          "output_type": "stream",
          "name": "stderr",
          "text": [
            "/usr/local/lib/python3.7/dist-packages/ipykernel_launcher.py:7: DeprecationWarning: Please use assertEqual instead.\n",
            "  import sys\n"
          ]
        }
      ]
    },
    {
      "cell_type": "code",
      "metadata": {
        "id": "6767IHdkTT_8"
      },
      "source": [
        "pairs = {\"A\": \"U\", \"U\": \"A\", \"G\": \"C\", \"C\": \"G\"}\n",
        "\n",
        "def valid_pair(pair):\n",
        "  return True if pair in pairs.items() else False\n",
        "\n",
        "def traceback(i, j, sequence, dp, matches):\n",
        "\n",
        "  if i < j:\n",
        "    if dp[i][j] == dp[i+1][j]:\n",
        "      traceback(i+1, j, sequence, dp, matches)\n",
        "    \n",
        "    elif dp[i][j] == dp[i][j-1]:\n",
        "      traceback(i, j-1, sequence, dp, matches)\n",
        "    \n",
        "    elif valid_pair((sequence[i], sequence[j])) and dp[i][j] == dp[i+1][j-1] + 1:\n",
        "      matches.append((i, j))\n",
        "      traceback(i+1, j-1, sequence, dp, matches) \n",
        "\n",
        "    else:\n",
        "      for k in range(i+1, j):\n",
        "        if dp[i][j] == dp[i][k] + dp[k+1][j]:\n",
        "          traceback(i, k, sequence, dp, matches)\n",
        "          traceback(k+1, j, sequence, dp, matches)\n",
        "          break\n",
        "    \n",
        "def dot_write(rna, fold):\n",
        "    dot = [\".\" for i in range(len(rna))]\n",
        "    for s in fold:\n",
        "        dot[min(s)] = \"(\"\n",
        "        dot[max(s)] = \")\"\n",
        "    return \"\".join(dot)\n",
        "\n",
        "\n",
        "def test_seq(seq):\n",
        "  dp = nussinovDP(seq).to_numpy()\n",
        "  matches = []\n",
        "  traceback(0, len(seq) - 1, seq, dp, matches)\n",
        "  out = dot_write(seq, matches)\n",
        "  return out\n"
      ],
      "execution_count": 4,
      "outputs": []
    },
    {
      "cell_type": "code",
      "source": [
        "# Test Cases\n",
        "test3 = test_seq(\"GGGAAAUCC\")\n",
        "nt.assert_equals(test3, \".((..()))\")\n",
        "test4 = test_seq(\"AUGCGCGGGAUCGUCGAGAU\")\n",
        "nt.assert_equals(test4,\"((.()()..()()(()).))\")\n",
        "test5 = test_seq(\"GCUCGGGUUCCCUAUUCAAGAGC\")\n",
        "nt.assert_equals(test5,\"(((((((..)))(()(.))))))\")"
      ],
      "metadata": {
        "colab": {
          "base_uri": "https://localhost:8080/"
        },
        "id": "MwWHuOSJLkGU",
        "outputId": "2edb30f2-abee-419d-c260-1df53eaf73da"
      },
      "execution_count": 5,
      "outputs": [
        {
          "output_type": "stream",
          "name": "stderr",
          "text": [
            "/usr/local/lib/python3.7/dist-packages/ipykernel_launcher.py:3: DeprecationWarning: Please use assertEqual instead.\n",
            "  This is separate from the ipykernel package so we can avoid doing imports until\n",
            "/usr/local/lib/python3.7/dist-packages/ipykernel_launcher.py:5: DeprecationWarning: Please use assertEqual instead.\n",
            "  \"\"\"\n",
            "/usr/local/lib/python3.7/dist-packages/ipykernel_launcher.py:7: DeprecationWarning: Please use assertEqual instead.\n",
            "  import sys\n"
          ]
        }
      ]
    },
    {
      "cell_type": "code",
      "source": [
        "pairs = {\"A\": \"U\", \"U\": \"A\", \"G\": \"C\", \"C\": \"G\"}\n",
        "\n",
        "def valid_pair(pair):\n",
        "  return True if pair in pairs.items() else False\n",
        "\n",
        "def traceback_enum(i, j, sequence, dp, currmatch, matches):\n",
        "  if i < j:\n",
        "    if dp[i][j] == dp[i+1][j]:\n",
        "      copy = deepcopy(currmatch)\n",
        "      traceback_enum(i+1, j, sequence, dp, copy, matches)\n",
        "    \n",
        "    if dp[i][j] == dp[i][j-1]:\n",
        "      copy = deepcopy(currmatch)\n",
        "      traceback_enum(i, j-1, sequence, dp, copy, matches)\n",
        "    \n",
        "    if valid_pair((sequence[i], sequence[j])) and dp[i][j] == dp[i+1][j-1] + 1:\n",
        "      currmatch.append((i, j))\n",
        "      traceback_enum(i+1, j-1, sequence, dp, currmatch, matches) \n",
        "    for k in range(i+1, j):\n",
        "      if dp[i][j] == dp[i][k] + dp[k+1][j]:\n",
        "        copy = deepcopy(currmatch)\n",
        "        traceback_enum(i, k, sequence, dp, copy, matches)\n",
        "        traceback_enum(k+1, j, sequence, dp, copy, matches)\n",
        "        break\n",
        "  elif len(currmatch) == int(dp[0][len(dp[0])-1]) and currmatch not in matches:\n",
        "    matches.append(tuple(currmatch))\n",
        "\n",
        "\n",
        "def test_seq_enum(seq):\n",
        "  dp = nussinovDP(seq).to_numpy()\n",
        "  currmatch = []\n",
        "  matches = []\n",
        "  traceback_enum(0, len(seq) - 1, seq, dp, currmatch, matches)\n",
        "  print(seq)\n",
        "  for match in set(matches):\n",
        "    out = dot_write(seq, match)\n",
        "    print(out)\n",
        "\n",
        "test_seq_enum(\"AU\")\n",
        "test_seq_enum(\"AUU\")\n",
        "test_seq_enum(\"AAUU\")\n",
        "test_seq_enum(\"AAUUU\")\n",
        "test_seq_enum(\"GGGAAAUCC\")\n",
        "test_seq_enum(\"AUGCGCGGGAUCGUCGAGAU\")\n",
        "test_seq_enum(\"GCUCGGGUUCCCUAUUCAAGAGC\")"
      ],
      "metadata": {
        "colab": {
          "base_uri": "https://localhost:8080/"
        },
        "id": "-tUHQyzgzQlY",
        "outputId": "4d9ab797-2b2f-4c14-da97-9a852c61852c"
      },
      "execution_count": 6,
      "outputs": [
        {
          "output_type": "stream",
          "name": "stdout",
          "text": [
            "AU\n",
            "()\n",
            "AUU\n",
            "(.)\n",
            "().\n",
            "AAUU\n",
            "(())\n",
            "AAUUU\n",
            "(()).\n",
            "((.))\n",
            "(().)\n",
            "GGGAAAUCC\n",
            "(.(..()))\n",
            ".((.(.)))\n",
            "((..(.)))\n",
            ".(((..)))\n",
            "((.(..)))\n",
            "(.((..)))\n",
            ".((..()))\n",
            "((...()))\n",
            "(.(.(.)))\n",
            "AUGCGCGGGAUCGUCGAGAU\n",
            "((()()...()(.(()))))\n",
            "((().(...()()(()))))\n",
            "((()()...()()(()).))\n",
            "((()().....()(()))))\n",
            "((.()()..()()....)))\n",
            "((.()()..()()(()).))\n",
            "((.(()...()()(()))))\n",
            "((.()()....()(()))))\n",
            "((().()..()()....)))\n",
            "()()()...((().....))\n",
            "()().()....()(()).))\n",
            "().()()..((().....))\n",
            "((().()....()(()))))\n",
            "().()()....()(()).))\n",
            "((().()..()()(()).))\n",
            "((.......)(()(()))))\n",
            "((.()()....()....)))\n",
            "((.(.()..()()(()))))\n",
            "((.()(.....()(()))))\n",
            "()().()..((().....))\n",
            "()()().....()(()).))\n",
            "((().()....(.(()))))\n",
            "GCUCGGGUUCCCUAUUCAAGAGC\n",
            "()(((((..))).......))))\n",
            "()(()((..))........))))\n",
            "(((((((..)))(()(.))))))\n",
            "(((()((..))(()....)))))\n",
            "(((()((..))((()...)))))\n"
          ]
        }
      ]
    },
    {
      "cell_type": "code",
      "source": [
        "from collections import deque\n",
        "def visualizer(seq, table, matches):\n",
        "\n",
        "    n = len(seq)\n",
        "    pairs = set(matches)\n",
        "    left_pointers = set([pair[0] for pair in matches])\n",
        "    right_pointers = set([pair[1] for pair in matches])\n",
        "    backtrace_positions = np.zeros((n, n)) # list of positions that have been backtrace_positions already\n",
        "    arrows = [] # directions of the form (x, y, dx, dy)\n",
        "    curr_pos = 1\n",
        "\n",
        "    stack = deque()\n",
        "    stack.append((0, n-1))\n",
        "    backtrace_positions[0, n-1] = 1\n",
        "\n",
        "    while stack:\n",
        "        curr_pos += 1\n",
        "        (i, j) = stack.pop()\n",
        "\n",
        "        if i >= j:\n",
        "            continue\n",
        "\n",
        "        elif (i, j) in pairs:\n",
        "            arrows.append((i, j, 1, -1))\n",
        "            stack.append((i+1, j-1))\n",
        "            backtrace_positions[i+1, j-1] = curr_pos\n",
        "\n",
        "        elif i in left_pointers and j in right_pointers:\n",
        "            for k in range(i+1, j):\n",
        "                if (i, k) in pairs:\n",
        "                    arrows.append((i, j, 0, k-j))\n",
        "                    stack.append((i, k))\n",
        "                    backtrace_positions[i, k] = curr_pos\n",
        "\n",
        "                    arrows.append((i, j, k+1-i, 0))\n",
        "                    stack.append((k+1, j))\n",
        "                    backtrace_positions[k+1, j] = curr_pos\n",
        "\n",
        "                    break\n",
        "        elif i in left_pointers:\n",
        "            arrows.append((i, j, 0, -1))\n",
        "            stack.append((i, j-1))\n",
        "            backtrace_positions[i, j-1] = curr_pos\n",
        "\n",
        "        else:\n",
        "            arrows.append((i, j, 1, 0))\n",
        "            stack.append((i+1, j))\n",
        "            backtrace_positions[i+1, j] = curr_pos\n",
        "\n",
        "    dw = dot_write(seq, matches)\n",
        "    ax = plt.gca()\n",
        "\n",
        "    backtrace_positions[backtrace_positions > 0] = backtrace_positions.max() + 1 - backtrace_positions[backtrace_positions>0]\n",
        "\n",
        "    im = ax.imshow(backtrace_positions, cmap='YlGn')\n",
        "\n",
        "    threshold = im.norm(im.get_array().max())/2\n",
        "    table = np.array(table)\n",
        "    ax.set_xticks(np.arange(n))\n",
        "    ax.set_xticklabels([dw[i] + '\\n' + seq[i] for i in range(n)])\n",
        "    ax.set_yticks(np.arange(n))\n",
        "    ax.set_yticklabels([seq[i] for i in range(n)])\n",
        "\n",
        "    for i in range(n):\n",
        "        for j in range(n):\n",
        "            ax.text(j, i, table[i, j],\n",
        "                           ha='center', va='center',\n",
        "                           color='r' if im.norm(backtrace_positions[i, j]) > threshold else 'black')\n",
        "\n",
        "    for (x, y, dx, dy) in arrows:\n",
        "        ax.arrow(y, x, dy, dx, width=0.01, head_width=0.2, alpha=0.5, color='r', zorder=2)\n",
        "\n",
        "    plt.savefig('output.png')\n",
        "    plt.close()"
      ],
      "metadata": {
        "id": "fxF78pfi5Qqg"
      },
      "execution_count": 11,
      "outputs": []
    },
    {
      "cell_type": "code",
      "source": [
        "dp = np.array([[0,1,1,1,2,2,2,3], [0,0,0,0,1,1,1,2], [0,0,0,0,1,1,1,2], [0,0,0,0,1,1,1,2], [0,0,0,0,0,0,1,1], [0,0,0,0,0,0,0,1], [0,0,0,0,0,0,0,1], [0,0,0,0,0,0,0,0]])\n",
        "matches = [(0, 1), (3, 4), (6, 7)]\n",
        "# traceback(0, len(\"AAUU\") - 1, \"AAUU\", dp, matches)\n",
        "visualizer(\"GCACGACG\", dp, matches)"
      ],
      "metadata": {
        "id": "Om1FScZtHvtp"
      },
      "execution_count": 12,
      "outputs": []
    }
  ]
}